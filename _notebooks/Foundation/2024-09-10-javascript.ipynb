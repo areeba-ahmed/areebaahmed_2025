{
 "cells": [
  {
   "cell_type": "markdown",
   "metadata": {},
   "source": [
    "---\n",
    "layout: post\n",
    "title: Javascript Cell Hack\n",
    "description: Hack 2 - java\n",
    "comments: false\n",
    "permalink: /java/\n",
    "---"
   ]
  },
  {
   "cell_type": "code",
   "execution_count": 5,
   "metadata": {
    "vscode": {
     "languageId": "javascript"
    }
   },
   "outputs": [
    {
     "data": {
      "application/javascript": "// Create a simple button click game\nvar body = document.getElementsByTagName(\"body\")[0];\nbody.innerHTML = \"\";\n\nvar score = 0;\nvar timeLeft = 10;\nvar gameActive = false;\n\n// Create button element\nvar button = document.createElement(\"button\");\nbutton.innerHTML = \"Click Me!\";\nbutton.style.fontSize = \"20px\";\nbutton.style.padding = \"10px\";\nbutton.onclick = function() {\n    if (gameActive) {\n        score += 1;\n        scoreDisplay.innerHTML = \"Score: \" + score;\n    }\n};\nbody.appendChild(button);\n\n// Create score display\nvar scoreDisplay = document.createElement(\"p\");\nscoreDisplay.innerHTML = \"Score: \" + score;\nbody.appendChild(scoreDisplay);\n\n// Create timer display\nvar timerDisplay = document.createElement(\"p\");\ntimerDisplay.innerHTML = \"Time left: \" + timeLeft + \"s\";\nbody.appendChild(timerDisplay);\n\n// Create start button\nvar startButton = document.createElement(\"button\");\nstartButton.innerHTML = \"Start Game\";\nstartButton.style.fontSize = \"20px\";\nstartButton.style.padding = \"10px\";\nstartButton.onclick = function() {\n    if (!gameActive) {\n        score = 0;\n        scoreDisplay.innerHTML = \"Score: \" + score;\n        timeLeft = 10;\n        timerDisplay.innerHTML = \"Time left: \" + timeLeft + \"s\";\n        gameActive = true;\n        var countdown = setInterval(function() {\n            timeLeft -= 1;\n            timerDisplay.innerHTML = \"Time left: \" + timeLeft + \"s\";\n            if (timeLeft <= 0) {\n                clearInterval(countdown);\n                gameActive = false;\n                alert(\"Time's up! Final score: \" + score);\n            }\n        }, 1000);\n    }\n};\nbody.appendChild(startButton);\n",
      "text/plain": [
       "<IPython.core.display.Javascript object>"
      ]
     },
     "metadata": {},
     "output_type": "display_data"
    }
   ],
   "source": [
    "%%javascript\n",
    "// Create a simple button click game\n",
    "var body = document.getElementsByTagName(\"body\")[0];\n",
    "body.innerHTML = \"\";\n",
    "\n",
    "var score = 0;\n",
    "var timeLeft = 10;\n",
    "var gameActive = false;\n",
    "\n",
    "// Create button element\n",
    "var button = document.createElement(\"button\");\n",
    "button.innerHTML = \"Click Me!\";\n",
    "button.style.fontSize = \"20px\";\n",
    "button.style.padding = \"10px\";\n",
    "button.onclick = function() {\n",
    "    if (gameActive) {\n",
    "        score += 1;\n",
    "        scoreDisplay.innerHTML = \"Score: \" + score;\n",
    "    }\n",
    "};\n",
    "body.appendChild(button);\n",
    "\n",
    "// Create score display\n",
    "var scoreDisplay = document.createElement(\"p\");\n",
    "scoreDisplay.innerHTML = \"Score: \" + score;\n",
    "body.appendChild(scoreDisplay);\n",
    "\n",
    "// Create timer display\n",
    "var timerDisplay = document.createElement(\"p\");\n",
    "timerDisplay.innerHTML = \"Time left: \" + timeLeft + \"s\";\n",
    "body.appendChild(timerDisplay);\n",
    "\n",
    "// Create start button\n",
    "var startButton = document.createElement(\"button\");\n",
    "startButton.innerHTML = \"Start Game\";\n",
    "startButton.style.fontSize = \"20px\";\n",
    "startButton.style.padding = \"10px\";\n",
    "startButton.onclick = function() {\n",
    "    if (!gameActive) {\n",
    "        score = 0;\n",
    "        scoreDisplay.innerHTML = \"Score: \" + score;\n",
    "        timeLeft = 10;\n",
    "        timerDisplay.innerHTML = \"Time left: \" + timeLeft + \"s\";\n",
    "        gameActive = true;\n",
    "        var countdown = setInterval(function() {\n",
    "            timeLeft -= 1;\n",
    "            timerDisplay.innerHTML = \"Time left: \" + timeLeft + \"s\";\n",
    "            if (timeLeft <= 0) {\n",
    "                clearInterval(countdown);\n",
    "                gameActive = false;\n",
    "                alert(\"Time's up! Final score: \" + score);\n",
    "            }\n",
    "        }, 1000);\n",
    "    }\n",
    "};\n",
    "body.appendChild(startButton);\n"
   ]
  }
 ],
 "metadata": {
  "kernelspec": {
   "display_name": "venv",
   "language": "python",
   "name": "python3"
  },
  "language_info": {
   "codemirror_mode": {
    "name": "ipython",
    "version": 3
   },
   "file_extension": ".py",
   "mimetype": "text/x-python",
   "name": "python",
   "nbconvert_exporter": "python",
   "pygments_lexer": "ipython3",
   "version": "3.12.3"
  }
 },
 "nbformat": 4,
 "nbformat_minor": 2
}
