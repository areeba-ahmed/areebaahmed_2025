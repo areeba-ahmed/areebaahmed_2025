{
 "cells": [
  {
   "cell_type": "markdown",
   "metadata": {},
   "source": [
    "---\n",
    "layout: post\n",
    "title: Mean\n",
    "description: Hack 1 - mean\n",
    "comments: true\n",
    "permalink: /mean/\n",
    "---"
   ]
  },
  {
   "cell_type": "code",
   "execution_count": 1,
   "metadata": {},
   "outputs": [
    {
     "name": "stdout",
     "output_type": "stream",
     "text": [
      "Print test data: 100\n",
      "Mean of single number: 100\n",
      "\n",
      "Print test data: [90.5, 100, 85.4, 88]\n",
      "Average score, loop method: 90.98\n",
      "Average score, function method: 90.98\n",
      "\n",
      "Print test data: [100, 'NaN', 90]\n",
      "Bad data: NaN in [100, 'NaN', 90]\n"
     ]
    }
   ],
   "source": [
    "import sys\n",
    "from typing import Union\n",
    "\n",
    "# Define types for mean function, trying to analyze input possibilities\n",
    "Number = Union[int, float]  # Number can be either int or float type\n",
    "Numbers = list[Number] # Numbers is a list of Number types\n",
    "Scores = Union[Number, Numbers] # Scores can be single or multiple \n",
    "\n",
    "def mean(scores: Scores, method: int = 1) -> float:\n",
    "    \"\"\"\n",
    "    Calculate the mean of a list of scores.\n",
    "    \n",
    "    Average and Average2 are hidden functions performing mean algorithm\n",
    "\n",
    "    If a single score is provided in scores, it is returned as the mean.\n",
    "    If a list of scores is provided, the average is calculated and returned.\n",
    "    \"\"\"\n",
    "    \n",
    "    def average(scores): \n",
    "        \"\"\"Calculate the average of a list of scores using a Python for loop with rounding.\"\"\"\n",
    "        total = 0\n",
    "        count = 0\n",
    "        for score in scores:\n",
    "            if isinstance(score, Number):\n",
    "                total += score\n",
    "                count += 1\n",
    "            else:\n",
    "                raise ValueError(f\"Bad data: {score} in {scores}\")\n",
    "        return total / count\n",
    "    \n",
    "    def average2(scores):\n",
    "        \"\"\"Calculate the average of a list of scores using the built-in sum() function with rounding.\"\"\"\n",
    "        return sum(scores) / len(scores)\n",
    "\n",
    "    if isinstance(scores, list):\n",
    "        if method == 1:  \n",
    "            # long method\n",
    "            result = average(scores)\n",
    "        else:\n",
    "            # built in method\n",
    "            result = average2(scores)\n",
    "        return round(result + 0.005, 2)\n",
    "    \n",
    "    return scores # case where scores is a single value\n",
    "\n",
    "# try with one number\n",
    "singleScore = 100\n",
    "print(\"Print test data: \" + str(singleScore))  # concat data for single line\n",
    "print(\"Mean of single number: \" + str(mean(singleScore)))\n",
    "\n",
    "print()\n",
    "\n",
    "# define a list of numbers\n",
    "testScores = [90.5, 100, 85.4, 88]\n",
    "print(\"Print test data: \" + str(testScores))\n",
    "print(\"Average score, loop method: \" + str(mean(testScores)))\n",
    "print(\"Average score, function method: \" +  str(mean(testScores, 2)))\n",
    "\n",
    "print()\n",
    "\n",
    "badData = [100, \"NaN\", 90]\n",
    "print(\"Print test data: \" + str(badData))\n",
    "try:\n",
    "    print(\"Mean with bad data: \" + str(mean(badData)))\n",
    "except ValueError as e:\n",
    "    print(e)"
   ]
  }
 ],
 "metadata": {
  "kernelspec": {
   "display_name": "venv",
   "language": "python",
   "name": "python3"
  },
  "language_info": {
   "codemirror_mode": {
    "name": "ipython",
    "version": 3
   },
   "file_extension": ".py",
   "mimetype": "text/x-python",
   "name": "python",
   "nbconvert_exporter": "python",
   "pygments_lexer": "ipython3",
   "version": "3.12.3"
  }
 },
 "nbformat": 4,
 "nbformat_minor": 2
}
