{
 "cells": [
  {
   "cell_type": "markdown",
   "metadata": {},
   "source": [
    "---\n",
    "layout: post\n",
    "title: Javascript cell\n",
    "description: Hack 1 - js cell\n",
    "comments: true\n",
    "permalink: /javas/\n",
    "---"
   ]
  },
  {
   "cell_type": "markdown",
   "metadata": {},
   "source": [
    "---\n",
    "layout: post\n",
    "title: Javascript Cell random generator\n",
    "description: Hack 1 - js cell\n",
    "comments: true\n",
    "permalink: /js/\n",
    "---"
   ]
  },
  {
   "cell_type": "markdown",
   "metadata": {},
   "source": [
    "---\n",
    "layout: post\n",
    "title: Random fact generator\n",
    "description: Hack 1 - js\n",
    "comments: true\n",
    "permalink: /js/\n",
    "---"
   ]
  },
  {
   "cell_type": "code",
   "execution_count": 2,
   "metadata": {
    "vscode": {
     "languageId": "javascript"
    }
   },
   "outputs": [
    {
     "data": {
      "application/javascript": "// Create an array of random facts\nvar facts = [\n    \"Honey never spoils. Archaeologists have found pots of honey in ancient Egyptian tombs that are over 3,000 years old and still perfectly edible.\",\n    \"Bananas are berries, but strawberries are not.\",\n    \"Octopuses have three hearts.\",\n    \"The Eiffel Tower can be 15 cm taller during the summer due to the expansion of metal in the heat.\",\n    \"A day on Venus is longer than a year on Venus.\",\n    \"Sharks existed before trees.\",\n    \"Wombat poop is cube-shaped.\",\n    \"The longest hiccuping spree lasted 68 years.\"\n];\n\n// Create button element to generate a random fact\nvar body = document.getElementsByTagName(\"body\")[0];\nbody.innerHTML = \"\";\n\nvar factButton = document.createElement(\"button\");\nfactButton.innerHTML = \"Show Random Fact\";\nfactButton.style.fontSize = \"20px\";\nfactButton.style.padding = \"10px\";\nbody.appendChild(factButton);\n\n// Create a display for the fact\nvar factDisplay = document.createElement(\"p\");\nfactDisplay.style.fontSize = \"18px\";\nfactDisplay.style.padding = \"10px\";\nfactDisplay.innerHTML = \"Click the button for a random fact!\";\nbody.appendChild(factDisplay);\n\n// Function to show a random fact\nfactButton.onclick = function() {\n    var randomFact = facts[Math.floor(Math.random() * facts.length)];\n    factDisplay.innerHTML = randomFact;\n};\n",
      "text/plain": [
       "<IPython.core.display.Javascript object>"
      ]
     },
     "metadata": {},
     "output_type": "display_data"
    }
   ],
   "source": [
    "%%javascript\n",
    "// Create an array of random facts\n",
    "var facts = [\n",
    "    \"Honey never spoils. Archaeologists have found pots of honey in ancient Egyptian tombs that are over 3,000 years old and still perfectly edible.\",\n",
    "    \"Bananas are berries, but strawberries are not.\",\n",
    "    \"Octopuses have three hearts.\",\n",
    "    \"The Eiffel Tower can be 15 cm taller during the summer due to the expansion of metal in the heat.\",\n",
    "    \"A day on Venus is longer than a year on Venus.\",\n",
    "    \"Sharks existed before trees.\",\n",
    "    \"Wombat poop is cube-shaped.\",\n",
    "    \"The longest hiccuping spree lasted 68 years.\"\n",
    "];\n",
    "\n",
    "// Create button element to generate a random fact\n",
    "var body = document.getElementsByTagName(\"body\")[0];\n",
    "body.innerHTML = \"\";\n",
    "\n",
    "var factButton = document.createElement(\"button\");\n",
    "factButton.innerHTML = \"Show Random Fact\";\n",
    "factButton.style.fontSize = \"20px\";\n",
    "factButton.style.padding = \"10px\";\n",
    "body.appendChild(factButton);\n",
    "\n",
    "// Create a display for the fact\n",
    "var factDisplay = document.createElement(\"p\");\n",
    "factDisplay.style.fontSize = \"18px\";\n",
    "factDisplay.style.padding = \"10px\";\n",
    "factDisplay.innerHTML = \"Click the button for a random fact!\";\n",
    "body.appendChild(factDisplay);\n",
    "\n",
    "// Function to show a random fact\n",
    "factButton.onclick = function() {\n",
    "    var randomFact = facts[Math.floor(Math.random() * facts.length)];\n",
    "    factDisplay.innerHTML = randomFact;\n",
    "};"
   ]
  }
 ],
 "metadata": {
  "kernelspec": {
   "display_name": "venv",
   "language": "python",
   "name": "python3"
  },
  "language_info": {
   "codemirror_mode": {
    "name": "ipython",
    "version": 3
   },
   "file_extension": ".py",
   "mimetype": "text/x-python",
   "name": "python",
   "nbconvert_exporter": "python",
   "pygments_lexer": "ipython3",
   "version": "3.12.3"
  }
 },
 "nbformat": 4,
 "nbformat_minor": 2
}
