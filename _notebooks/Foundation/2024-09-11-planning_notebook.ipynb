{
 "cells": [
  {
   "cell_type": "markdown",
   "metadata": {},
   "source": [
    "---\n",
    "layout: post\n",
    "title: Planning Notebook\n",
    "description: Hack 1 - planning notebook\n",
    "comments: true\n",
    "permalink: /planning/\n",
    "---"
   ]
  },
  {
   "cell_type": "markdown",
   "metadata": {},
   "source": [
    "# Planning Document\n",
    "\n",
    "## What I Attempted to Do\n",
    "- Create a homepage with a submenu for my notebooks.\n",
    "- Set up an interactive JavaScript notebook.\n",
    "\n",
    "## What I Accomplished\n",
    "- Successfully created a submenu with links to different notebooks.\n",
    "- Implemented an interactive game using JavaScript in one of the notebooks."
   ]
  }
 ],
 "metadata": {
  "kernelspec": {
   "display_name": "venv",
   "language": "python",
   "name": "python3"
  },
  "language_info": {
   "codemirror_mode": {
    "name": "ipython",
    "version": 3
   },
   "file_extension": ".py",
   "mimetype": "text/x-python",
   "name": "python",
   "nbconvert_exporter": "python",
   "pygments_lexer": "ipython3",
   "version": "3.12.3"
  }
 },
 "nbformat": 4,
 "nbformat_minor": 2
}
