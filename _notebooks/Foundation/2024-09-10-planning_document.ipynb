{
 "cells": [
  {
   "cell_type": "raw",
   "metadata": {
    "vscode": {
     "languageId": "raw"
    }
   },
   "source": [
    "---\n",
    "layout: post\n",
    "title: Planning Document\n",
    "description: Attempts and Accomplishments\n",
    "comments: true\n",
    "permalink: /planning/\n",
    "---"
   ]
  },
  {
   "cell_type": "markdown",
   "metadata": {},
   "source": [
    "# Planning Document\n",
    "\n",
    "## Attempts\n",
    "- Description of attempted projects or ideas.\n",
    "\n",
    "## Accomplishments\n",
    "- Description of what was achieved or completed.\n"
   ]
  }
 ],
 "metadata": {
  "language_info": {
   "name": "python"
  }
 },
 "nbformat": 4,
 "nbformat_minor": 2
}
