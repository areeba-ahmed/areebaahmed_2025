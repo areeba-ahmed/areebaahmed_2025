{
 "cells": [
  {
   "cell_type": "raw",
   "metadata": {
    "vscode": {
     "languageId": "raw"
    }
   },
   "source": [
    "---\n",
    "layout: post\n",
    "title: Planning Document\n",
    "description: Attempts and Accomplishments\n",
    "comments: true\n",
    "permalink: /planning/\n",
    "---"
   ]
  },
  {
   "cell_type": "markdown",
   "metadata": {},
   "source": [
    "# Planning Document\n",
    "\n",
    "## September 9th\n",
    "\n",
    "On this day, my partner and I finished up our issues and grading checklist, and our own checklist to be ready for review the next day. We worked independently on this but asked each other for help when we needed it. We were on different paths for the checklist, while I was working on emojis she was working on the jupyter notebooks. But in the end we finished everything.\n",
    "\n",
    "<a href=\"https://github.com/areeba-ahmed/areebaahmed_2025/issues/1\">Peer Grading</a>\n",
    "\n",
    "<a href=\"https://github.com/areeba-ahmed/areebaahmed_2025/issues/2\">Self Grading</a>"
   ]
  }
 ],
 "metadata": {
  "language_info": {
   "name": "python"
  }
 },
 "nbformat": 4,
 "nbformat_minor": 2
}
